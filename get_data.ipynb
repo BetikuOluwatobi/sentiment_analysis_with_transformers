{
  "nbformat": 4,
  "nbformat_minor": 0,
  "metadata": {
    "colab": {
      "provenance": [],
      "collapsed_sections": [],
      "authorship_tag": "ABX9TyMVn6x3Nk5bBV3pcOFEZSk0",
      "include_colab_link": true
    },
    "kernelspec": {
      "name": "python3",
      "display_name": "Python 3"
    },
    "language_info": {
      "name": "python"
    }
  },
  "cells": [
    {
      "cell_type": "markdown",
      "metadata": {
        "id": "view-in-github",
        "colab_type": "text"
      },
      "source": [
        "<a href=\"https://colab.research.google.com/github/BetikuOluwatobi/sentiment_analysis_with_transformers/blob/main/get_data.ipynb\" target=\"_parent\"><img src=\"https://colab.research.google.com/assets/colab-badge.svg\" alt=\"Open In Colab\"/></a>"
      ]
    },
    {
      "cell_type": "code",
      "execution_count": 1,
      "metadata": {
        "colab": {
          "base_uri": "https://localhost:8080/"
        },
        "id": "KRJ566VShagg",
        "outputId": "26de663c-1bb6-4b3e-c54a-9c3dba7defeb"
      },
      "outputs": [
        {
          "output_type": "stream",
          "name": "stdout",
          "text": [
            "Mounted at content\n"
          ]
        }
      ],
      "source": [
        "from google.colab import drive\n",
        "drive.mount('content')"
      ]
    },
    {
      "cell_type": "code",
      "source": [
        "import os\n",
        "os.environ['KAGGLE_USERNAME'] = #\n",
        "os.environ['KAGGLE_KEY'] = #"
      ],
      "metadata": {
        "id": "F5D7DuEqrnqa"
      },
      "execution_count": 2,
      "outputs": []
    },
    {
      "cell_type": "code",
      "source": [
        "!kaggle -h"
      ],
      "metadata": {
        "colab": {
          "base_uri": "https://localhost:8080/"
        },
        "id": "QeXiExVvtotl",
        "outputId": "2fc6eb03-628b-4c2e-ed05-d0cc7297c1aa"
      },
      "execution_count": 3,
      "outputs": [
        {
          "output_type": "stream",
          "name": "stdout",
          "text": [
            "usage: kaggle [-h] [-v] {competitions,c,datasets,d,kernels,k,config} ...\n",
            "\n",
            "optional arguments:\n",
            "  -h, --help            show this help message and exit\n",
            "  -v, --version         show program's version number and exit\n",
            "\n",
            "commands:\n",
            "  {competitions,c,datasets,d,kernels,k,config}\n",
            "                        Use one of:\n",
            "                        competitions {list, files, download, submit, submissions, leaderboard}\n",
            "                        datasets {list, files, download, create, version, init, metadata, status}\n",
            "                        config {view, set, unset}\n",
            "    competitions (c)    Commands related to Kaggle competitions\n",
            "    datasets (d)        Commands related to Kaggle datasets\n",
            "    kernels (k)         Commands related to Kaggle kernels\n",
            "    config              Configuration settings\n"
          ]
        }
      ]
    },
    {
      "cell_type": "code",
      "source": [
        "!kaggle datasets download -d saurav9786/amazon-product-reviews"
      ],
      "metadata": {
        "colab": {
          "base_uri": "https://localhost:8080/"
        },
        "id": "HiUOsxRTunC2",
        "outputId": "0015e12f-e914-4e8e-905b-aa4cd36dfcab"
      },
      "execution_count": 7,
      "outputs": [
        {
          "output_type": "stream",
          "name": "stdout",
          "text": [
            "Downloading amazon-product-reviews.zip to /content\n",
            " 89% 97.0M/109M [00:00<00:00, 109MB/s] \n",
            "100% 109M/109M [00:00<00:00, 116MB/s] \n"
          ]
        }
      ]
    },
    {
      "cell_type": "code",
      "source": [
        "from zipfile import ZipFile"
      ],
      "metadata": {
        "id": "OW_n1rDXu7bd"
      },
      "execution_count": 15,
      "outputs": []
    },
    {
      "cell_type": "code",
      "source": [
        "with ZipFile('/content/amazon-product-reviews.zip',mode='r') as zipFile:\n",
        "  zipFile.extractall('./')"
      ],
      "metadata": {
        "id": "BGHUQhVu9qCA"
      },
      "execution_count": 17,
      "outputs": []
    },
    {
      "cell_type": "code",
      "source": [],
      "metadata": {
        "id": "1-CwnfJW_rsV"
      },
      "execution_count": null,
      "outputs": []
    }
  ]
}